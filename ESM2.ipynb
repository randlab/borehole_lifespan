{
 "cells": [
  {
   "cell_type": "markdown",
   "id": "246ce43b-e5e3-4fd5-825a-7abe83880577",
   "metadata": {},
   "source": [
    "## Analyzing Borehole Lifespan\n",
    "\n",
    "This notebook provides an example of how to analyze the lifespan of water wells (boreholes) using survival analysis techniques.\n",
    "\n",
    "We use the Python package **lifelines** for survival analysis (documentation: https://lifelines.readthedocs.io).\n",
    "\n",
    "In this example, we use a global anonymized dataset (see Electronic supplementary material **ESM 1**), but this notebook can be used to analyze any dataset. To ensure meaningful and representative results, the analysis should be based on a complete dataset that includes both commissioning and decommissioning dates for boreholes.Partial datasets may lead to biased estimates of borehole lifespan.\n",
    "\n",
    "July 2025 - Manon Trottet - manon.trottet@unine.ch\n",
    "\n",
    "### Reference\n",
    "\n",
    "Trottet, M., P. Renard and F. Bertone, 2025,  Global insights into lifespan of water boreholes using survival analysis methods, Hydrogeology journal, in review.\n",
    "\n"
   ]
  },
  {
   "cell_type": "code",
   "execution_count": null,
   "id": "182d2faa-cee6-489b-a346-316f87b2878b",
   "metadata": {},
   "outputs": [],
   "source": [
    "# Standard imports\n",
    "import numpy as np\n",
    "import pandas as pd\n",
    "import matplotlib.pyplot as plt\n",
    "import matplotlib.lines as mlines\n",
    "import matplotlib.patches as mpatches\n",
    "from scipy.stats import norm, lognorm \n",
    "from scipy.stats import truncnorm\n",
    "from scipy.optimize import minimize\n",
    "\n",
    "# Lifelines imports (https://pypi.org/project/lifelines/)\n",
    "from lifelines import KaplanMeierFitter \n",
    "\n",
    "# Personalized code for the analysis \n",
    "import ESM3 as BoreholesLifespan"
   ]
  },
  {
   "cell_type": "markdown",
   "id": "6fa44c25-596c-4d29-a2bf-6f8734891ed4",
   "metadata": {},
   "source": [
    "# 1 Load the dataset \n",
    "\n",
    "First, import the data file and rename the columns as defined in the code.\n",
    "\n",
    "The dataset should contain at least the following information: \n",
    "\n",
    "* Last update year : Year of the last update or inspection of the borehole, for boreholes that are still in use\n",
    "    \n",
    "* Construction year : Year the borehole was constructed/comissionned \n",
    "    \n",
    "* Year of decommissioning : Year the borehole was decommissioned (NA if still operating, 9999 if unknown) \n",
    "\n",
    "If known, pumping rate information and any explanatory variables can be added. In this example, we include:\n",
    " \n",
    "    \n",
    "* Nominal pumping rate (m3/s)  : Nominal pumping rate (m³/s), for regular operation\n",
    "    \n",
    "* Last pumping rate (m3/s)  : Last (Most recent) recorded pumping rate (m³/s)\n",
    "\n",
    "* Total depth (m) : Total depth of the borehole in meters"
   ]
  },
  {
   "cell_type": "code",
   "execution_count": null,
   "id": "7055a008-7456-4b4e-a2c2-e75b900bfa6a",
   "metadata": {},
   "outputs": [],
   "source": [
    "# Import your datafile\n",
    "data =  pd.read_excel('ESM1.xlsx') \n",
    "\n",
    "# Rename the columns with the name of the variables as: \n",
    "data.rename(columns={  \n",
    "    'Last update year': 'CheckDate',  # Year of the last update or inspection of the borehole\n",
    "    'Borehole ID': 'BoreholeID',      # Unique identifier for the borehole\n",
    "    'Construction year': 'ComDate',   # Year the borehole was constructed/comissionned \n",
    "    'Total depth (m)':'Depth',        # Total depth of the borehole in meters\n",
    "    'Nominal pumping rate (m3/s)': 'QAnnual', # Nominal pumping rate (m³/s), for regular operation\n",
    "    'Last pumping rate (m3/s)': 'QFinal',    # Last (Most recent) recorded pumping rate (m³/s)\n",
    "    'Year of decommissioning (NA for boreholes in operation, 9999 for unknown)': 'DecomDate'   # Year the borehole was decommissioned (NA if still operating, 9999 if unknown) \n",
    "}, inplace=True)"
   ]
  },
  {
   "cell_type": "markdown",
   "id": "1e721f00-ffab-4c45-86a7-f243fae9fb5a",
   "metadata": {},
   "source": [
    "# 2 Prepapre the variables\n",
    "\n",
    "To apply the analysis, two variables are needed:\n",
    "\n",
    "* The `time` variable, which corresponds to the survival time — that is, the time elapsed between the borehole's commissioning and decommissioning.\n",
    "\n",
    "* The `status` variable, which indicates whether the borehole is still in use (0 = censored) or has been decommissioned (1 = event).\n",
    "\n",
    "The second step consists of defining these variables.\n"
   ]
  },
  {
   "cell_type": "code",
   "execution_count": null,
   "id": "8715e32a-368d-45b3-96e6-4c03a96d3a94",
   "metadata": {},
   "outputs": [],
   "source": [
    "# Information on the data \n",
    "total_count = data.shape[0]\n",
    "decom_count = data['DecomDate'].count()\n",
    "percentage_decom = (decom_count * 100) / total_count if total_count > 0 else 0\n",
    "\n",
    "print('Total number of boreholes:', total_count)\n",
    "print('Percentage of decommissioned data:', round(percentage_decom, 2), '%')"
   ]
  },
  {
   "cell_type": "code",
   "execution_count": null,
   "id": "2ca1b4ed-25c1-4a62-8ce1-638825a189a9",
   "metadata": {},
   "outputs": [],
   "source": [
    "# Create the `time` and `status` variables\n",
    "data['FinalDate'] = np.where(data['DecomDate'].notna(), data['DecomDate'],data['CheckDate']) # In some cases, we may know that a borehole was still in use up to a specific date (Check date) prior to 2025.\n",
    "data['time'] = data['FinalDate']- data['ComDate']\n",
    "data['status'] = data['DecomDate'].notna().astype(int)\n",
    "# For boreholes with missing decommissioning dates, we simulated values using the normal distribution fitted to the known decommissioning dates. \n",
    "data_no9999 = data[data['DecomDate'] != 9999.].copy()\n",
    "#data_no9999 = data_no9999.dropna(subset=['DecomDate'])\n",
    "mu_world, std_world = np.mean(data_no9999['DecomDate']), np.std(data_no9999['DecomDate'])\n",
    "max_val = 2024\n",
    "seed = 42\n",
    "np.random.seed(seed)\n",
    "mask_d = data['DecomDate'] == 9999 \n",
    "BoreholesLifespan.simul_decom(data, mask_d, mu_world, std_world, max_val) # Simulate decommissioning dates and assign them to cases where they are not known"
   ]
  },
  {
   "cell_type": "code",
   "execution_count": null,
   "id": "6242956f-5415-4739-85ab-f33f7c1ba3b2",
   "metadata": {},
   "outputs": [],
   "source": [
    "# Clean and update the variables\n",
    "data['FinalDate'] = np.where(data['DecomDate'].notna(), data['DecomDate'],data['CheckDate'])\n",
    "data['time'] = data['FinalDate']- data['ComDate']  # Recalculate the time variable\n",
    "data['DiffQ'] = data['QAnnual'] - data['QFinal']   # Calculate the difference in yield                           \n",
    "data['DimQ'] = (data['DiffQ'] / data['QAnnual'])*100 # in percent \n",
    "data['time'] = data.apply(BoreholesLifespan.adjust_time, axis=1) # Adjust time as a function of yield reduction.\n",
    "data['status'] = data['DecomDate'].notna().astype(int) # redefine the status: (0 = censored, still in use), (1 = event, decommisionned)  \n",
    "data = BoreholesLifespan.clean_time_column(data, column_name=\"time\", small_value=0.01) # Clean the \"time\" column. "
   ]
  },
  {
   "cell_type": "markdown",
   "id": "ba7e23ec-26ca-43a9-b011-88b61bfd3e5d",
   "metadata": {},
   "source": [
    "## 3 Apply the analysis to the global dataset\n",
    "\n",
    "We use the Kaplan-Meier estimator to describe the survival function of the boreholes.  \n",
    "We then model the survival curve and extend it up to 60 years, if needed, using the Gompertz model.  \n",
    "Finally, the lifespan is defined as the Restricted Mean Survival Time (RMST) of the Gompertz model up to 60 years.\n",
    "See the paper for more info.\n"
   ]
  },
  {
   "cell_type": "code",
   "execution_count": null,
   "id": "09d17a58-c74b-46b9-9ec5-e9d18a30be80",
   "metadata": {},
   "outputs": [],
   "source": [
    "# Define the Kaplan-Meier estimator\n",
    "T_tot = data[\"time\"]  # Survival time of the boreholes\n",
    "E_tot = data[\"status\"]  # Indicates whether the borehole is decommissioned (1) or still in use (0 — censored)\n",
    "\n",
    "timeline = np.linspace(0, max(T_tot), 60)\n",
    "\n",
    "kmf_tot = KaplanMeierFitter()  # Initialize the Kaplan-Meier estimator with censored data\n",
    "kmf_tot.fit(T_tot, E_tot, timeline=timeline)"
   ]
  },
  {
   "cell_type": "code",
   "execution_count": null,
   "id": "bd73398c-b70a-48f8-a05b-d9fc7b1bedfb",
   "metadata": {},
   "outputs": [],
   "source": [
    "initial_guess = [1.0, 0.01]  # Define initial parameter values for the Gompertz model: [alpha, lambda]\n",
    "# Fit the Gompertz model by minimizing the negative log-likelihood\n",
    "res_gompertz = minimize(\n",
    "    BoreholesLifespan.neg_log_likelihood_gompertz,\n",
    "    x0=initial_guess,\n",
    "    args=(T_tot, E_tot),\n",
    "    bounds=[(1e-5, None), (1e-5, None)]\n",
    ")\n",
    "alpha_hat, lambda_hat = res_gompertz.x # Extract estimated parameters from the fitted model\n",
    "cov_matrix = res_gompertz.hess_inv.todense() # Compute the covariance of the estimated parameters\n",
    "x_grid = np.linspace(0, 60, 60)\n",
    "S_gompertz = BoreholesLifespan.gompertz_survival_function(x_grid, alpha_hat, lambda_hat) # Compute the Gompertz survival function using the estimated parameters\n",
    "ci_lower, ci_upper = BoreholesLifespan.confidence_interval_gompertz(x_grid, alpha_hat, lambda_hat, cov_matrix) # Compute the 95% confidence interval for the Gompertz survival function"
   ]
  },
  {
   "cell_type": "markdown",
   "id": "7ce118a5-1941-4002-90e8-83cf8661b3b4",
   "metadata": {},
   "source": [
    "## 3.1 Plot the results"
   ]
  },
  {
   "cell_type": "code",
   "execution_count": null,
   "id": "4be227e7-9a28-4700-b26f-2093506620f6",
   "metadata": {},
   "outputs": [],
   "source": [
    "# Plot the survival functions \n",
    "\n",
    "BoreholesLifespan.plot_survival_function(\n",
    "    kmf_fit=kmf_tot,\n",
    "    legend_label='Kaplan-Meier',\n",
    "    color='darkgreen',\n",
    "    fig_width_cm=12,\n",
    "    fig_height_cm=7,\n",
    "    xlim=60,\n",
    "    show_censors=True, # display or not the censored data (boreholes that are still in use)\n",
    "    ci_show=True, # show confidence interval of the Kaplan-Meier function\n",
    "    legend_loc='upper right',\n",
    "    show_gompertz=True, # display or not the Gompertz model \n",
    "    x_grid=x_grid,\n",
    "    S_gompertz=S_gompertz,\n",
    "    ci_lower=ci_lower,\n",
    "    ci_upper=ci_upper,\n",
    "    output_path=None\n",
    ")"
   ]
  },
  {
   "cell_type": "markdown",
   "id": "bf4e9e9a-3f08-48d8-b008-190f5ed46f94",
   "metadata": {},
   "source": [
    "## 3.2 RMST VALUES "
   ]
  },
  {
   "cell_type": "code",
   "execution_count": null,
   "id": "386fe71d-909b-4471-b1c1-fa8ed9e9e52c",
   "metadata": {},
   "outputs": [],
   "source": [
    "# Compute RMST (Restricted Mean Survival Time) using the Gompertz model\n",
    "km_times = kmf_tot.survival_function_.index.values  # Time points from the Kaplan-Meier curve\n",
    "\n",
    "# Estimate RMST from the Gompertz survival function up to 60 years\n",
    "rmst_gompertz = BoreholesLifespan.gompertz_rmst(60, alpha_hat, lambda_hat)\n",
    "\n",
    "# Estimate 95% confidence interval for RMST\n",
    "res = BoreholesLifespan.calcul_rmst_gompertz_ci(T_tot, E_tot, time_limit=60, n_bootstraps=100)\n",
    "\n",
    "# Display the RMST and its uncertainty \n",
    "print(f\"RMST from Gompertz model at 60 years: {res['RMST']:.2f} ± {res['±']:.2f} years\")"
   ]
  },
  {
   "cell_type": "markdown",
   "id": "048c355e-3b40-4efd-81fe-a78ed52e343d",
   "metadata": {},
   "source": [
    "# 4 Analyze the lifespan by group\n",
    "\n",
    "In this part, the data are grouped into categories and analyzed to compare borehole lifespan across different factors. \n",
    "\n",
    "Here, for the example, boreholes are grouped based on annual production yield. However, other variables — such as depth — can also be analyzed by adjusting the variable names. The classification is based on threshold values, and boreholes are categorized accordingly in order to compare their RMST."
   ]
  },
  {
   "cell_type": "markdown",
   "id": "7e7cd16c-23bc-4406-a702-9a1482381b8a",
   "metadata": {},
   "source": [
    "## 4.1 Analyze the yield: "
   ]
  },
  {
   "cell_type": "code",
   "execution_count": null,
   "id": "b64ae912-f90c-46aa-bd0d-bac6e55e05f4",
   "metadata": {},
   "outputs": [],
   "source": [
    "data = data.dropna(subset=['QAnnual']) # Remove rows where the nominal yield (QAnnual) is missing\n",
    "data.loc[:, 'QAnnual'] = pd.to_numeric(data['QAnnual'], errors='coerce')\n",
    "\n",
    "# Function to categorize nominal yield into two groups\n",
    "def assign_value_yield(x):\n",
    "    if 0 <= x <= 0.00555556:\n",
    "        return 'Yield < 20 m$^3$/h'\n",
    "    elif x > 0.00555556:\n",
    "        return 'Yield > 20 m$^3$/h'\n",
    "\n",
    "# Apply the categorization to the 'QAnnual' column\n",
    "data['QAnnual'] = data['QAnnual'].apply(assign_value_yield)\n",
    "\n",
    "data = data.dropna(subset=['QAnnual'])  # Remove rows where 'QAnnual' is NaN (i.e., yield is missing or invalid)"
   ]
  },
  {
   "cell_type": "code",
   "execution_count": null,
   "id": "66f35952-f562-4985-b29f-4ae2aaab941c",
   "metadata": {},
   "outputs": [],
   "source": [
    "# Create separate time (T1) and event (E1) variables for each yield category\n",
    "\n",
    "T_per_yield, E_per_yield = BoreholesLifespan.TandE_pervariable(data, group_var= 'QAnnual', time_var='time', status_var='status') # 'group_var' refers to the name of the column you grouped the data by"
   ]
  },
  {
   "cell_type": "code",
   "execution_count": null,
   "id": "7de867c2-84f9-4687-a448-fb8e679c401b",
   "metadata": {},
   "outputs": [],
   "source": [
    "# Plot the survival functions and the RMST results per groups of variable\n",
    "\n",
    "rmst_results = BoreholesLifespan.plot_results_per_group(\n",
    "    T1_par_variable = T_per_yield,\n",
    "    E1_par_variable = E_per_yield,\n",
    "    tmax=60,\n",
    "    n_bootstraps=150,\n",
    "    legend_loc='upper right',\n",
    "    fig_width_cm=10.32 , fig_height_cm=8.1 ,\n",
    "    output_path= None \n",
    ")"
   ]
  },
  {
   "cell_type": "raw",
   "id": "af3df0eb-6b3b-4a7a-920c-0bc174f48b29",
   "metadata": {},
   "source": [
    "# You can change the variables names to analyze the depth or the years : \n",
    "\n",
    "# Function to categorize nominal yield into two groups\n",
    "def assign_value_depth(x):\n",
    "    if 0 <= x <= 50:\n",
    "        return 'depth < 50 m '\n",
    "    elif x > 50:\n",
    "        return 'depth > 135 m'\n",
    "\n",
    "# Function to assign a class based on commissioning year\n",
    "def assign_class_yr(value):\n",
    "    if value  <= 2005:\n",
    "        return 'Commissioned before 2005'\n",
    "    else:\n",
    "        return 'Commissioned after 2005'"
   ]
  },
  {
   "cell_type": "raw",
   "id": "686684da",
   "metadata": {},
   "source": []
  }
 ],
 "metadata": {
  "kernelspec": {
   "display_name": "base",
   "language": "python",
   "name": "python3"
  },
  "language_info": {
   "codemirror_mode": {
    "name": "ipython",
    "version": 3
   },
   "file_extension": ".py",
   "mimetype": "text/x-python",
   "name": "python",
   "nbconvert_exporter": "python",
   "pygments_lexer": "ipython3",
   "version": "3.12.10"
  }
 },
 "nbformat": 4,
 "nbformat_minor": 5
}
